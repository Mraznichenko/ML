{
 "cells": [
  {
   "cell_type": "code",
   "execution_count": 11,
   "id": "06091402",
   "metadata": {},
   "outputs": [],
   "source": [
    "import warnings\n",
    "\n",
    "warnings.filterwarnings('ignore')"
   ]
  },
  {
   "cell_type": "code",
   "execution_count": 12,
   "id": "92fad4c4",
   "metadata": {},
   "outputs": [
    {
     "name": "stdout",
     "output_type": "stream",
     "text": [
      "Best Hyperparameters: {'classifier__bootstrap': False, 'classifier__max_depth': None, 'classifier__max_features': 'sqrt', 'classifier__min_samples_leaf': 2, 'classifier__min_samples_split': 5, 'classifier__n_estimators': 200}\n",
      "              precision    recall  f1-score   support\n",
      "\n",
      "         0.0       0.94      0.76      0.84        21\n",
      "         1.0       0.94      0.96      0.95       194\n",
      "         2.0       0.83      0.84      0.84        58\n",
      "         3.0       0.53      0.62      0.57        13\n",
      "         4.0       0.67      0.33      0.44         6\n",
      "\n",
      "    accuracy                           0.90       292\n",
      "   macro avg       0.78      0.70      0.73       292\n",
      "weighted avg       0.90      0.90      0.90       292\n",
      "\n",
      "Elapsed time: 5799.51 seconds\n"
     ]
    }
   ],
   "source": [
    "import pandas as pd\n",
    "from sklearn.preprocessing import StandardScaler, OneHotEncoder\n",
    "from sklearn.compose import ColumnTransformer\n",
    "from sklearn.impute import SimpleImputer\n",
    "from sklearn.pipeline import Pipeline\n",
    "from sklearn.ensemble import RandomForestClassifier\n",
    "from sklearn.metrics import classification_report\n",
    "from sklearn.model_selection import train_test_split, cross_val_score, GridSearchCV\n",
    "import time\n",
    "start_time = time.time()\n",
    "\n",
    "# Load the data\n",
    "data = pd.read_csv('https://github.com/craft-mini/ML_Finance_Group3/raw/main/GroupProjectDataSet.csv', sep=',')\n",
    "\n",
    "# Define the features and the target variable\n",
    "X = data.drop(columns=['Class'])\n",
    "y = data['Class']\n",
    "\n",
    "# Define preprocessing steps for numeric and categorical features\n",
    "numeric_transformer = Pipeline(steps=[\n",
    "    ('imputer', SimpleImputer(strategy='median')),\n",
    "    ('scaler', StandardScaler())])\n",
    "\n",
    "categorical_transformer = Pipeline(steps=[\n",
    "    ('imputer', SimpleImputer(strategy='most_frequent')),\n",
    "    ('onehot', OneHotEncoder(handle_unknown='ignore'))])\n",
    "\n",
    "# Define the column transformer\n",
    "preprocessor = ColumnTransformer(\n",
    "    transformers=[\n",
    "        ('num', numeric_transformer, X.select_dtypes(include=['int64', 'float64']).columns),\n",
    "        ('cat', categorical_transformer, X.select_dtypes(include=['object']).columns)])\n",
    "\n",
    "# Define the Random Forest Classifier model\n",
    "model = Pipeline(steps=[('preprocessor', preprocessor),\n",
    "                        ('classifier', RandomForestClassifier(n_jobs=-1, class_weight='balanced'))])\n",
    "\n",
    "# Split the data into training and testing sets\n",
    "X_train, X_test, y_train, y_test = train_test_split(X, y, test_size=0.2, random_state=42)\n",
    "\n",
    "# Define hyperparameters to tune\n",
    "param_grid = {\n",
    "    'classifier__n_estimators': [100, 200, 300, 500],\n",
    "    'classifier__max_depth': [None, 5, 10, 15, 20],\n",
    "    'classifier__min_samples_split': [2, 5, 10, 15],\n",
    "    'classifier__min_samples_leaf': [1, 2, 4, 6],\n",
    "    'classifier__max_features': ['sqrt', 'log2', None],\n",
    "    'classifier__bootstrap': [True, False]\n",
    "}\n",
    "\n",
    "# Tune hyperparameters using GridSearchCV\n",
    "grid_search = GridSearchCV(model, param_grid, cv=10, n_jobs=-1)\n",
    "grid_search.fit(X_train, y_train)\n",
    "best_model = grid_search.best_estimator_\n",
    "\n",
    "# Print the best hyperparameters\n",
    "print(\"Best Hyperparameters:\", grid_search.best_params_)\n",
    "\n",
    "# Fit the best model on the training data\n",
    "best_model.fit(X_train, y_train)\n",
    "\n",
    "# Predict on the testing data\n",
    "y_pred = best_model.predict(X_test)\n",
    "\n",
    "# Print the classification report\n",
    "print(classification_report(y_test, y_pred))\n",
    "end_time = time.time()\n",
    "elapsed_time = end_time - start_time\n",
    "print(f\"Elapsed time: {elapsed_time:.2f} seconds\")"
   ]
  }
 ],
 "metadata": {
  "kernelspec": {
   "display_name": "Python 3 (ipykernel)",
   "language": "python",
   "name": "python3"
  },
  "language_info": {
   "codemirror_mode": {
    "name": "ipython",
    "version": 3
   },
   "file_extension": ".py",
   "mimetype": "text/x-python",
   "name": "python",
   "nbconvert_exporter": "python",
   "pygments_lexer": "ipython3",
   "version": "3.9.13"
  }
 },
 "nbformat": 4,
 "nbformat_minor": 5
}
